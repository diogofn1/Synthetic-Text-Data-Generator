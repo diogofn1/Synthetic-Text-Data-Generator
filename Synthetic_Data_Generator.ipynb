{
  "nbformat": 4,
  "nbformat_minor": 0,
  "metadata": {
    "colab": {
      "provenance": [],
      "gpuType": "T4",
      "authorship_tag": "ABX9TyMKI8sO+Gk2UoiHaUWc4aFL",
      "include_colab_link": true
    },
    "kernelspec": {
      "name": "python3",
      "display_name": "Python 3"
    },
    "language_info": {
      "name": "python"
    },
    "accelerator": "GPU"
  },
  "cells": [
    {
      "cell_type": "markdown",
      "metadata": {
        "id": "view-in-github",
        "colab_type": "text"
      },
      "source": [
        "<a href=\"https://colab.research.google.com/github/diogofn1/Synthetic-Text-Data-Generator/blob/main/Synthetic_Data_Generator.ipynb\" target=\"_parent\"><img src=\"https://colab.research.google.com/assets/colab-badge.svg\" alt=\"Open In Colab\"/></a>"
      ]
    },
    {
      "cell_type": "markdown",
      "source": [
        "# Important\n",
        "This notebook was made to be run in google colab. This was done in order to allow users to make use of it regardless of having a good computer at home. However, with a small change in loading Hugging Face token, it can be run in a personal computer.\n",
        "If run as a free Google Colab user, I recommend connection to a machine called 'GPUs: T4'. You can set that at the top right of your screen."
      ],
      "metadata": {
        "id": "1wnn_llM3m-6"
      }
    },
    {
      "cell_type": "markdown",
      "source": [
        "# Synthetic text data generator\n",
        "The goal of this notebook is to build a synthetic text data generator using a open source model. Synthetic data is defined as artifiacially generated data that resembles real-world data. It is useful for multiple purposes, such as model training.\n",
        "The model will leverage an open source model in order to keep it free of cost. The model will be \"meta-llama/Meta-Llama-3.1-8B-Instruct\", which is available at HuggingFace, is manageable by the power of Google Colab GPU T4, is able to receive instructions as a chatbot does, and yields good results."
      ],
      "metadata": {
        "id": "uJdUcweyyuzK"
      }
    },
    {
      "cell_type": "code",
      "execution_count": null,
      "metadata": {
        "id": "ZNRM8bjkyrK1"
      },
      "outputs": [],
      "source": [
        "# Install requirements\n",
        "\n",
        "!pip install -q requests torch bitsandbytes transformers sentencepiece accelerate"
      ]
    },
    {
      "cell_type": "code",
      "source": [
        "# Relevant imports\n",
        "\n",
        "from google.colab import userdata, files\n",
        "from huggingface_hub import login\n",
        "from transformers import AutoTokenizer, AutoModelForCausalLM, TextStreamer, BitsAndBytesConfig\n",
        "import torch\n",
        "import gc\n",
        "from IPython import display"
      ],
      "metadata": {
        "id": "uT0BdxE81KWp"
      },
      "execution_count": null,
      "outputs": []
    },
    {
      "cell_type": "code",
      "source": [
        "# Login to HuggingFace. HF_Token must be set in Google Colab Secrets\n",
        "# If using on a personal machine, change this cell to load HF_TOKEN from a .env file\n",
        "# One could also hardcode the token, but it is not recommended\n",
        "\n",
        "hf_token = userdata.get('HF_TOKEN')\n",
        "login(hf_token, add_to_git_credential=True)"
      ],
      "metadata": {
        "id": "gfrySVz62C_6"
      },
      "execution_count": null,
      "outputs": []
    },
    {
      "cell_type": "code",
      "source": [
        "# Quantization configuration\n",
        "# Quantization allows less use of memory to load the model at the cost of some accuracy\n",
        "# Without this, the notebook is likely to crash for lack of memory\n",
        "\n",
        "quant_config = BitsAndBytesConfig(\n",
        "    load_in_4bit=True,\n",
        "    bnb_4bit_use_double_quant=True,\n",
        "    bnb_4bit_compute_dtype=torch.bfloat16,\n",
        "    bnb_4bit_quant_type=\"nf4\"\n",
        ")"
      ],
      "metadata": {
        "id": "w7hdQyEa2YkN"
      },
      "execution_count": null,
      "outputs": []
    },
    {
      "cell_type": "code",
      "source": [
        "# Load desired model\n",
        "\n",
        "tokenizer = AutoTokenizer.from_pretrained(\"meta-llama/Meta-Llama-3.1-8B-Instruct\")\n",
        "tokenizer.pad_token = tokenizer_llama.eos_token\n",
        "model = AutoModelForCausalLM.from_pretrained(\"meta-llama/Meta-Llama-3.1-8B-Instruct\",\n",
        "                                             device_map=\"auto\",\n",
        "                                             quantization_config=quant_config)"
      ],
      "metadata": {
        "id": "TXW-Ytq92mLx"
      },
      "execution_count": null,
      "outputs": []
    },
    {
      "cell_type": "code",
      "source": [
        "def generate_document(prompt, max_new_tokens=2000):\n",
        "\n",
        "  \"\"\"\n",
        "  Generate documents based on the prompt given.\n",
        "  Prompt (str): Instructions for the model.\n",
        "  max_new_tokens (int): Maximum number of new tokens to generate.\n",
        "  \"\"\"\n",
        "\n",
        "  prompt_updated = (\n",
        "    \"You are a synthetic data generator.\\n\\n\"\n",
        "    f\"{prompt}\\n\"\n",
        "    \"Output your response in markdown format.\\n\"\n",
        "  )\n",
        "  inputs = tokenizer(prompt_updated, return_tensors=\"pt\").to(\"cuda\")\n",
        "  input_length = inputs['input_ids'].shape[1]  # Number of tokens in the prompt\n",
        "  outputs = model.generate(inputs['input_ids'], max_new_tokens=2000)\n",
        "  generated_tokens = outputs[0][input_length:]\n",
        "  generated_text = tokenizer.decode(generated_tokens, skip_special_tokens=True)\n",
        "\n",
        "  return generated_text"
      ],
      "metadata": {
        "id": "nP3zj5duGX8r"
      },
      "execution_count": null,
      "outputs": []
    },
    {
      "cell_type": "markdown",
      "source": [
        "## Sample uses"
      ],
      "metadata": {
        "id": "KOy9nmlbGQdN"
      }
    },
    {
      "cell_type": "markdown",
      "source": [
        "### 1. Generating a company summary"
      ],
      "metadata": {
        "id": "ZMQeYIdIIqXm"
      }
    },
    {
      "cell_type": "code",
      "source": [
        "prompt = (\n",
        "    \"Generate a document about Healthym, a company that sells healthy foods at local stores.\\n\"\n",
        "    \"This document should contain a couple of sections: summary about the company; a description of services it sells;\\n\"\n",
        "    \"a small background history; company values and mission.\\n\"\n",
        ")\n",
        "\n",
        "company_summary = generate_document(prompt, max_new_tokens=2000)"
      ],
      "metadata": {
        "id": "Vw-kiq0fDUAj"
      },
      "execution_count": null,
      "outputs": []
    },
    {
      "cell_type": "code",
      "source": [
        "display.Markdown(company_summary)"
      ],
      "metadata": {
        "colab": {
          "base_uri": "https://localhost:8080/",
          "height": 781
        },
        "id": "_UKDOX5m87ry",
        "outputId": "7bff3374-bff5-4ff5-b5af-cc0f47951ef3"
      },
      "execution_count": null,
      "outputs": [
        {
          "output_type": "execute_result",
          "data": {
            "text/plain": [
              "<IPython.core.display.Markdown object>"
            ],
            "text/markdown": "==============================================\n\nHealthym: Nourishing Communities with Healthy Foods\n=====================================================\n\n### Summary\n\nHealthym is a pioneering company dedicated to providing high-quality, healthy foods to local communities. We believe that everyone deserves access to nutritious food, regardless of their location or socioeconomic status. Our mission is to make healthy eating a reality for all, while promoting sustainability and supporting local economies.\n\n### Services\n\nHealthym offers a wide range of healthy food products, including:\n\n* Fresh produce: seasonal fruits and vegetables sourced from local farmers\n* Whole grains: artisanal bread, pasta, and rice from small-scale producers\n* Plant-based protein: organic tofu, tempeh, and seitan from local suppliers\n* Specialty foods: artisanal cheeses, fermented foods, and international cuisine\n* Meal kits: pre-portioned ingredients and recipes for easy meal prep\n\nOur products are carefully curated to meet the diverse needs of our customers, from busy professionals to families and individuals with dietary restrictions.\n\n### Background History\n\nHealthym was founded in 2015 by a group of passionate entrepreneurs who recognized the need for healthier food options in local communities. Our initial store opened in a small town in the Midwest, where we quickly gained a loyal customer base. As our popularity grew, we expanded to new locations, refining our business model and product offerings along the way.\n\nToday, Healthym operates over 50 stores across the United States, with a strong presence in urban and rural areas. Our commitment to quality, sustainability, and community engagement has earned us a reputation as a trusted leader in the healthy food industry.\n\n### Company Values and Mission\n\nAt Healthym, we live by the following values:\n\n* **Quality**: We source only the best ingredients from local suppliers to ensure our products meet the highest standards.\n* **Sustainability**: We strive to minimize our environmental footprint through eco-friendly packaging, reduced waste, and energy-efficient operations.\n* **Community**: We believe in giving back to the communities we serve, through partnerships with local organizations and initiatives that promote food security and education.\n\nOur mission is to:\n\n* Provide access to healthy, nutritious food for all members of our communities\n* Foster a culture of sustainability and environmental responsibility\n* Support local economies and small-scale producers\n* Educate and empower our customers to make informed food choices\n\nAt Healthym, we're dedicated to making a positive impact on the health and well-being of our customers, while promoting a more sustainable and equitable food system. Join us in our mission to nourish communities and create a healthier, happier world."
          },
          "metadata": {},
          "execution_count": 63
        }
      ]
    },
    {
      "cell_type": "code",
      "source": [
        "# Save it locally\n",
        "\n",
        "with open('company_summary.md', 'w') as f:\n",
        "  f.write(company_summary)\n",
        "\n",
        "files.download('company_summary.md')"
      ],
      "metadata": {
        "colab": {
          "base_uri": "https://localhost:8080/",
          "height": 17
        },
        "id": "7fZ7uVIDLQGL",
        "outputId": "f55cb435-811c-4331-e947-ab9ea7dd0c61"
      },
      "execution_count": null,
      "outputs": [
        {
          "output_type": "display_data",
          "data": {
            "text/plain": [
              "<IPython.core.display.Javascript object>"
            ],
            "application/javascript": [
              "\n",
              "    async function download(id, filename, size) {\n",
              "      if (!google.colab.kernel.accessAllowed) {\n",
              "        return;\n",
              "      }\n",
              "      const div = document.createElement('div');\n",
              "      const label = document.createElement('label');\n",
              "      label.textContent = `Downloading \"${filename}\": `;\n",
              "      div.appendChild(label);\n",
              "      const progress = document.createElement('progress');\n",
              "      progress.max = size;\n",
              "      div.appendChild(progress);\n",
              "      document.body.appendChild(div);\n",
              "\n",
              "      const buffers = [];\n",
              "      let downloaded = 0;\n",
              "\n",
              "      const channel = await google.colab.kernel.comms.open(id);\n",
              "      // Send a message to notify the kernel that we're ready.\n",
              "      channel.send({})\n",
              "\n",
              "      for await (const message of channel.messages) {\n",
              "        // Send a message to notify the kernel that we're ready.\n",
              "        channel.send({})\n",
              "        if (message.buffers) {\n",
              "          for (const buffer of message.buffers) {\n",
              "            buffers.push(buffer);\n",
              "            downloaded += buffer.byteLength;\n",
              "            progress.value = downloaded;\n",
              "          }\n",
              "        }\n",
              "      }\n",
              "      const blob = new Blob(buffers, {type: 'application/binary'});\n",
              "      const a = document.createElement('a');\n",
              "      a.href = window.URL.createObjectURL(blob);\n",
              "      a.download = filename;\n",
              "      div.appendChild(a);\n",
              "      a.click();\n",
              "      div.remove();\n",
              "    }\n",
              "  "
            ]
          },
          "metadata": {}
        },
        {
          "output_type": "display_data",
          "data": {
            "text/plain": [
              "<IPython.core.display.Javascript object>"
            ],
            "application/javascript": [
              "download(\"download_c208b06c-668b-4f9a-bc23-822ac6b1aec9\", \"company_summary.md\", 2850)"
            ]
          },
          "metadata": {}
        }
      ]
    },
    {
      "cell_type": "markdown",
      "source": [
        "### 2. Generating multiple products"
      ],
      "metadata": {
        "id": "lkH-zw7tIxsr"
      }
    },
    {
      "cell_type": "code",
      "source": [
        "products = ['seasonal fruits', \"artisanal bread\", \"multivitamin\", \"organic meat\"]\n",
        "\n",
        "for product in products:\n",
        "\n",
        "  prompt = (\n",
        "      \"Generate a document about products commercialized by Healthym, a company that sells healthy foods at local stores.\\n\"\n",
        "      \"This document should contain a couple of sections: product summary; a description of what it can be used for;\\n\"\n",
        "      \"product origin; if applicable, sample recipe in which it can be used, if applicable.\\n\"\n",
        "      f\"The product is: {product}.\\n\"\n",
        "  )\n",
        "\n",
        "  product_description = generate_document(prompt, max_new_tokens=2000)\n",
        "\n",
        "  with open(f'{product}.md', 'w') as f:\n",
        "    f.write(product_description)\n",
        "  files.download(f'{product}.md')"
      ],
      "metadata": {
        "id": "jw6dz6dRMbic"
      },
      "execution_count": null,
      "outputs": []
    },
    {
      "cell_type": "code",
      "source": [
        "# Product file sample\n",
        "\n",
        "with open('seasonal fruits.md', 'r') as f:\n",
        "  file = f.read()\n",
        "\n",
        "display.Markdown(file)"
      ],
      "metadata": {
        "colab": {
          "base_uri": "https://localhost:8080/",
          "height": 864
        },
        "id": "bzX7Sk_sP5NW",
        "outputId": "b6d70b9d-bf39-415b-fbde-48cb3bd4ec79"
      },
      "execution_count": null,
      "outputs": [
        {
          "output_type": "execute_result",
          "data": {
            "text/plain": [
              "<IPython.core.display.Markdown object>"
            ],
            "text/markdown": "---\n\n# Product Summary\n\n**Seasonal Fruits**\n=====================\n\nHealthym's seasonal fruits are a collection of fresh and nutritious fruits available at local stores. Our selection includes a variety of fruits that are in season, ensuring maximum freshness and flavor.\n\n# Product Description\n\n**Description**\n------------\n\nSeasonal fruits can be used in a variety of ways, including:\n\n*   Eating fresh as a snack or dessert\n*   Adding to salads, yogurt, or oatmeal for extra flavor and nutrition\n*   Using in smoothies or juices for a quick and healthy drink\n*   Incorporating into baked goods, such as muffins or cakes\n\n# Product Origin\n\n**Origin**\n----------\n\nOur seasonal fruits are sourced from local farmers and suppliers who adhere to sustainable and environmentally friendly practices. We prioritize supporting local economies and promoting eco-friendly agriculture.\n\n# Sample Recipe\n\n**Seasonal Fruit Salad**\n----------------------\n\nIngredients:\n\n*   1 cup mixed seasonal fruits (such as strawberries, blueberries, grapes, and pineapple)\n*   2 tablespoons honey\n*   1 tablespoon lemon juice\n*   1/4 cup chopped fresh mint\n\nInstructions:\n\n1.  In a large bowl, combine the mixed seasonal fruits.\n2.  In a small bowl, whisk together the honey and lemon juice.\n3.  Pour the honey-lemon mixture over the fruits and toss to coat.\n4.  Sprinkle the chopped fresh mint over the top.\n5.  Serve chilled or at room temperature.\n\nThis recipe showcases the versatility of seasonal fruits and highlights their use in a simple and delicious salad. Enjoy!"
          },
          "metadata": {},
          "execution_count": 81
        }
      ]
    },
    {
      "cell_type": "markdown",
      "source": [
        "## Final remarks\n",
        "\n",
        "This notebook can be use to generate synthetic text data for multiple purposes. The examples dispalyed here showcases its use to generate artificial data for a company called Healthym: one file for a company descrition and multiple files describing the product it offers. The user can adapt the parameters of the function generate_document() to fit their needs and address other contexts."
      ],
      "metadata": {
        "id": "dda6EYs-Qcms"
      }
    }
  ]
}